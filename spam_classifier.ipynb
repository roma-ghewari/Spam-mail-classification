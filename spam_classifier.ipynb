{
 "cells": [
  {
   "cell_type": "code",
   "execution_count": 1,
   "metadata": {
    "ExecuteTime": {
     "end_time": "2019-04-12T19:35:49.711902Z",
     "start_time": "2019-04-12T19:35:49.457803Z"
    },
    "collapsed": true
   },
   "outputs": [],
   "source": [
    "import numpy as np\n",
    "from sklearn.svm import SVC\n",
    "from sklearn.model_selection import KFold\n",
    "from sklearn.metrics import confusion_matrix, precision_recall_fscore_support "
   ]
  },
  {
   "cell_type": "markdown",
   "metadata": {},
   "source": [
    "1. Read the data from the file\n",
    "2. Separate the data into parameters and the corresponding labels\n",
    "3. Convert the data and the lables into numpy arrays"
   ]
  },
  {
   "cell_type": "code",
   "execution_count": 2,
   "metadata": {
    "ExecuteTime": {
     "end_time": "2019-04-12T19:35:50.864695Z",
     "start_time": "2019-04-12T19:35:50.764411Z"
    }
   },
   "outputs": [],
   "source": [
    "data_file = open('spambase/spambase.data', 'r')\n",
    "\n",
    "data = []\n",
    "label = []\n",
    "\n",
    "# load data from comma separated text file into lists in python\n",
    "# while separating the parameters and the label of the data\n",
    "for i in range(4061):\n",
    "    data.append(data_file.readline().split(\",\"))\n",
    "    label.append(data[i][57])\n",
    "    data[i] = data[i][:57]\n",
    "\n",
    "# convert python lists to numpy array\n",
    "data = np.asarray(data)\n",
    "data = data.astype(float)\n",
    "    \n",
    "label = np.asarray(label)\n",
    "label = label.astype(int)\n"
   ]
  },
  {
   "cell_type": "markdown",
   "metadata": {},
   "source": [
    "4. Shuffle the data and split it for k-fold cross validation\n",
    "    (Shuffling the data is necessary as the data contains all samples with label 1 initially followed by all        samples with label 0)\n",
    "5. Use a linear SVM model object for training the model to classify samples as spam or not spam\n",
    "6. Train the svm model on 4 folds keeping 1 fold for testing using svm.fit\n",
    "7. Test the trained model on the test data\n",
    "8. Use the confusion matrix to find the rates\n",
    "    (False positive rate is the fraction of non-spam mails classified as spam,\n",
    "     False negative rate is the fraction of spam mails classified as non-spam,\n",
    "     Error rate is the total fraction of mails that are misclassified(either spam or non-spam))\n",
    "9. Evaluate the f1-score"
   ]
  },
  {
   "cell_type": "code",
   "execution_count": 9,
   "metadata": {
    "ExecuteTime": {
     "end_time": "2019-04-12T21:01:37.087268Z",
     "start_time": "2019-04-12T20:57:48.954680Z"
    },
    "scrolled": true
   },
   "outputs": [],
   "source": [
    "# Using linear SVM for email classification\n",
    "\n",
    "\n",
    "k_fold = KFold(n_splits=5, shuffle=True)\n",
    "k_fold.get_n_splits(data)\n",
    "svm = []\n",
    "\n",

    "fpr = []\n",
    "fnr = []\n",
    "error = []\n",
    "f1 = []\n",
    "\n",
    "\n",
    "for k, (train, test) in enumerate(k_fold.split(data, label)):\n",
    "    \n",
    "    svm.append(SVC(kernel='linear', C = 0.075, random_state=101))\n",
    "    svm[k].fit(data[train], label[train])\n",
    "    y_test = label[test]\n",
    "    y_pred = svm[k].predict(data[test])\n",
    "    \n",
    "    conf_matrix = confusion_matrix(y_test,y_pred)  \n",
    "    evaluation = precision_recall_fscore_support(y_test, y_pred)\n",
    "    \n",
    "    error.append(float( 1.0*( conf_matrix[0][1]+conf_matrix[1][0] ) / len(y_pred)))\n",
    "    fpr.append(1.0 * conf_matrix[0][1]/(conf_matrix[0][1]+conf_matrix[1][1]))\n",
    "    fnr.append(1.0 * conf_matrix[1][0]/(conf_matrix[1][0]+conf_matrix[0][0]))\n",
    "    f1.append( (evaluation[2][0]+evaluation[2][1])/2 )\n",
    "    "
   ]
  },
  {
   "cell_type": "markdown",
   "metadata": {},
   "source": [
    "1. Print the evaluation results per fold"
   ]
  },
  {
   "cell_type": "code",
   "execution_count": 11,
   "metadata": {
    "ExecuteTime": {
     "end_time": "2019-04-12T21:02:28.344477Z",
     "start_time": "2019-04-12T21:02:28.314554Z"
    }
   },
   "outputs": [
    {
     "name": "stdout",
     "output_type": "stream",
     "text": [
      "Fold \t False Postive Rate\t False Negative Rate\t ErrorRate \tF1-score\n",
      "0 \t\t0.07799 \t\t0.05286 \t0.06396  \t0.93508\n",
      "1 \t\t0.06849 \t\t0.06264 \t0.06527  \t0.93411\n",
      "2 \t\t0.08986 \t\t0.07066 \t0.07882  \t0.91942\n",
      "3 \t\t0.05056 \t\t0.07675 \t0.06527  \t0.93404\n",
      "4 \t\t0.07123 \t\t0.06935 \t0.0702  \t0.92917\n",
      "------------------------------------------------------------------------------\n",
      "avg\t\t0.07163 \t\t0.06645  \t0.0687  \t0.93036\n"
     ]
    }
   ],
   "source": [
    "print 'Fold \\t False Postive Rate\\t False Negative Rate\\t ErrorRate \\tF1-score'\n",
    "\n",
    "for i in range(5):\n",
    "    print i, '\\t\\t', round(fpr[i], 5), '\\t\\t', round(fnr[i], 5), '\\t', \\\n",
    "    round(error[i], 5), ' \\t', round( f1[i], 5 )  \n",
    "\n",
    "print '------------------------------------------------------------------------------'\n",
    "print 'avg' '\\t\\t', round(sum(fpr)/5, 5), '\\t\\t', round(sum(fnr)/5, 5), ' \\t',\\\n",
    "round(sum(error)/5, 5), ' \\t', round(sum(f1)/5, 5)"
   ]
  }
 ],
 "metadata": {
  "kernelspec": {
   "display_name": "Python 2",
   "language": "python",
   "name": "python2"
  },
  "language_info": {
   "codemirror_mode": {
    "name": "ipython",
    "version": 2
   },
   "file_extension": ".py",
   "mimetype": "text/x-python",
   "name": "python",
   "nbconvert_exporter": "python",
   "pygments_lexer": "ipython2",
   "version": "2.7.11"
  },
  "toc": {
   "nav_menu": {},
   "number_sections": true,
   "sideBar": true,
   "skip_h1_title": false,
   "toc_cell": false,
   "toc_position": {},
   "toc_section_display": "block",
   "toc_window_display": false
  }
 },
 "nbformat": 4,
 "nbformat_minor": 2
}
